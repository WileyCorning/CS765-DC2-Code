{
 "cells": [
  {
   "cell_type": "code",
   "execution_count": 1,
   "metadata": {},
   "outputs": [],
   "source": [
    "import sys\n",
    "import numpy,scipy,matplotlib,sklearn"
   ]
  },
  {
   "cell_type": "code",
   "execution_count": 2,
   "metadata": {},
   "outputs": [
    {
     "name": "stdout",
     "output_type": "stream",
     "text": [
      "Python 3.9.7 (default, Sep 16 2021, 16:59:28) [MSC v.1916 64 bit (AMD64)]\n",
      "NumPy 1.20.3\n",
      "SciPy 1.7.1\n",
      "Matplotlib 3.4.3\n",
      "scikit-learn 0.24.2\n"
     ]
    }
   ],
   "source": [
    "print('Python',sys.version)\n",
    "print('NumPy',numpy.__version__)\n",
    "print('SciPy',scipy.__version__)\n",
    "print('Matplotlib',matplotlib.__version__)\n",
    "print('scikit-learn',sklearn.__version__)"
   ]
  }
 ],
 "metadata": {
  "interpreter": {
   "hash": "657bda745a6ac4a79e0175a39be5ddbf4848d98f57085fe1a51b1498700eaa2a"
  },
  "kernelspec": {
   "display_name": "Python 3.9.7 64-bit ('base': conda)",
   "language": "python",
   "name": "python3"
  },
  "language_info": {
   "codemirror_mode": {
    "name": "ipython",
    "version": 3
   },
   "file_extension": ".py",
   "mimetype": "text/x-python",
   "name": "python",
   "nbconvert_exporter": "python",
   "pygments_lexer": "ipython3",
   "version": "3.9.7"
  },
  "orig_nbformat": 4
 },
 "nbformat": 4,
 "nbformat_minor": 2
}
